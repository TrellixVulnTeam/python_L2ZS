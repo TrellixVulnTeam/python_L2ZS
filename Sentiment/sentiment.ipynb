{
 "cells": [
  {
   "cell_type": "raw",
   "metadata": {},
   "source": [
    "# เขียนโดย นาย วรรณพงษ์  ภัททิยไพบูลย์\n",
    "# ใช้ประกอบบทความใน python3.wannaphong.com\n",
    "# cc-by 3.0 Thai Sentiment Text https://github.com/wannaphongcom/lexicon-thai/tree/master/ข้อความ/\n",
    "# อ่านบทความได้ที่ https://python3.wannaphong.com/2017/02/ทำ-sentiment-analysis-ภาษาไทยใน-python.html"
   ]
  },
  {
   "cell_type": "code",
   "execution_count": 1,
   "metadata": {
    "collapsed": false
   },
   "outputs": [],
   "source": [
    "from nltk import NaiveBayesClassifier as nbc\n",
    "import pythainlp\n",
    "from pythainlp.tokenize import word_tokenize\n",
    "import codecs\n",
    "from itertools import chain"
   ]
  },
  {
   "cell_type": "code",
   "execution_count": 2,
   "metadata": {
    "collapsed": false
   },
   "outputs": [],
   "source": [
    "# pos.txt\n",
    "with codecs.open('pos.txt', 'r', \"utf-8\") as f:\n",
    "    lines = f.readlines()\n",
    "listpos=[e.strip() for e in lines]\n",
    "#del lines\n",
    "f.close() # ปิดไฟล์"
   ]
  },
  {
   "cell_type": "code",
   "execution_count": 3,
   "metadata": {
    "collapsed": false
   },
   "outputs": [],
   "source": [
    "# neg.txt\n",
    "with codecs.open('neg.txt', 'r', \"utf-8\") as f:\n",
    "    lines = f.readlines()\n",
    "listneg=[e.strip() for e in lines]\n",
    "f.close() # ปิดไฟล์"
   ]
  },
  {
   "cell_type": "code",
   "execution_count": 4,
   "metadata": {
    "collapsed": true
   },
   "outputs": [],
   "source": [
    "pos1=['pos']*len(listpos)\n",
    "neg1=['neg']*len(listpos)"
   ]
  },
  {
   "cell_type": "code",
   "execution_count": 5,
   "metadata": {
    "collapsed": false
   },
   "outputs": [],
   "source": [
    "training_data = list(zip(listpos,pos1)) + list(zip(listneg,neg1))\n"
   ]
  },
  {
   "cell_type": "code",
   "execution_count": 6,
   "metadata": {
    "collapsed": true
   },
   "outputs": [],
   "source": [
    "vocabulary = set(chain(*[word_tokenize(i[0].lower()) for i in training_data]))\n",
    "\n"
   ]
  },
  {
   "cell_type": "code",
   "execution_count": 7,
   "metadata": {
    "collapsed": true
   },
   "outputs": [],
   "source": [
    "feature_set = [({i:(i in word_tokenize(sentence.lower())) for i in vocabulary},tag) for sentence, tag in training_data]"
   ]
  },
  {
   "cell_type": "code",
   "execution_count": 8,
   "metadata": {
    "collapsed": true
   },
   "outputs": [],
   "source": [
    "classifier = nbc.train(feature_set)"
   ]
  },
  {
   "cell_type": "code",
   "execution_count": null,
   "metadata": {
    "collapsed": false
   },
   "outputs": [
    {
     "name": "stdout",
     "output_type": "stream",
     "text": [
      "\n",
      "ข้อความ:รัฐบาลอนุมัติโครงการท่าเรือน้ำลึกเพื่อพัฒนาประเทศเศรษฐกิจภูมิภาคมีความผันผวน\n",
      "test_sent: เศรษฐกิจภูมิภาคมีความผันผวน\n",
      "tag: neg\n"
     ]
    }
   ],
   "source": [
    "while True:\n",
    "\ttest_sentence = input('\\nข้อความ:รัฐบาลอนุมัติโครงการท่าเรือน้ำลึกเพื่อพัฒนาประเทศ')\n",
    "\tfeaturized_test_sentence =  {i:(i in word_tokenize(test_sentence.lower())) for i in vocabulary}\n",
    "\tprint(\"test_sent:\",test_sentence)\n",
    "\tprint(\"tag:\",classifier.classify(featurized_test_sentence)) # ใช้โมเดลที่ train ประมวลผล"
   ]
  },
  {
   "cell_type": "code",
   "execution_count": null,
   "metadata": {
    "collapsed": true
   },
   "outputs": [],
   "source": []
  },
  {
   "cell_type": "code",
   "execution_count": null,
   "metadata": {
    "collapsed": true
   },
   "outputs": [],
   "source": []
  },
  {
   "cell_type": "code",
   "execution_count": null,
   "metadata": {
    "collapsed": true
   },
   "outputs": [],
   "source": []
  },
  {
   "cell_type": "code",
   "execution_count": null,
   "metadata": {
    "collapsed": true
   },
   "outputs": [],
   "source": []
  }
 ],
 "metadata": {
  "kernelspec": {
   "display_name": "Python 3",
   "language": "python",
   "name": "python3"
  },
  "language_info": {
   "codemirror_mode": {
    "name": "ipython",
    "version": 3
   },
   "file_extension": ".py",
   "mimetype": "text/x-python",
   "name": "python",
   "nbconvert_exporter": "python",
   "pygments_lexer": "ipython3",
   "version": "3.5.1"
  }
 },
 "nbformat": 4,
 "nbformat_minor": 0
}

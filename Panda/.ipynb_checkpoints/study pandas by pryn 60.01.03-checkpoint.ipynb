{
 "cells": [
  {
   "cell_type": "code",
   "execution_count": 1,
   "metadata": {},
   "outputs": [
    {
     "name": "stdout",
     "output_type": "stream",
     "text": [
      " Volume in drive E is New Volume\n",
      " Volume Serial Number is CA76-314D\n",
      "\n",
      " Directory of E:\\DEV\\Panda\n",
      "\n",
      "03/01/2019  10:02 PM    <DIR>          .\n",
      "03/01/2019  10:02 PM    <DIR>          ..\n",
      "03/01/2019  10:02 PM    <DIR>          .ipynb_checkpoints\n",
      "01/06/2017  07:00 PM             9,828 study DataFrame.ipynb\n",
      "01/06/2017  06:42 PM            13,483 study numpy.ipynb\n",
      "01/05/2017  01:04 PM            39,974 study pandas by pryn 60.01.03.ipynb\n",
      "01/04/2017  01:09 PM             4,326 study pandas by pryn 60.01.03-Copy1.ipynb\n",
      "01/06/2017  05:57 PM             2,639 study pandas datetime.ipynb\n",
      "01/05/2017  01:25 PM            65,204 Study Seaborn pryn.ipynb\n",
      "               6 File(s)        135,454 bytes\n",
      "               3 Dir(s)  433,008,078,848 bytes free\n"
     ]
    }
   ],
   "source": [
    "ls"
   ]
  },
  {
   "cell_type": "code",
   "execution_count": 131,
   "metadata": {
    "collapsed": true
   },
   "outputs": [],
   "source": [
    "import pandas as pd\n",
    "import numpy as np\n",
    "%matplotlib inline\n",
    "import matplotlib as mpl\n",
    "import matplotlib.pyplot as plt\n"
   ]
  },
  {
   "cell_type": "code",
   "execution_count": 132,
   "metadata": {},
   "outputs": [],
   "source": [
    "data=pd.read_json(\"study.json\",orient=\"record\")"
   ]
  },
  {
   "cell_type": "code",
   "execution_count": 133,
   "metadata": {},
   "outputs": [
    {
     "data": {
      "text/html": [
       "<div>\n",
       "<table border=\"1\" class=\"dataframe\">\n",
       "  <thead>\n",
       "    <tr style=\"text-align: right;\">\n",
       "      <th></th>\n",
       "      <th>log</th>\n",
       "    </tr>\n",
       "  </thead>\n",
       "  <tbody>\n",
       "    <tr>\n",
       "      <th>0</th>\n",
       "      <td>{'eat': [23, 43, 44], 'study': [45, 90, 234], ...</td>\n",
       "    </tr>\n",
       "    <tr>\n",
       "      <th>1</th>\n",
       "      <td>{'eat': [33, 55, 66], 'study': [90, 234], 'ent...</td>\n",
       "    </tr>\n",
       "    <tr>\n",
       "      <th>2</th>\n",
       "      <td>{'eat': [99], 'study': [90, 234], 'entertain':...</td>\n",
       "    </tr>\n",
       "    <tr>\n",
       "      <th>3</th>\n",
       "      <td>{'eat': [29], 'entertain': [950], 'date': '201...</td>\n",
       "    </tr>\n",
       "    <tr>\n",
       "      <th>4</th>\n",
       "      <td>{'eat': [69], 'entertain': [150], 'date': '201...</td>\n",
       "    </tr>\n",
       "    <tr>\n",
       "      <th>5</th>\n",
       "      <td>{'eat': [123], 'study': [90, 234], 'entertain'...</td>\n",
       "    </tr>\n",
       "    <tr>\n",
       "      <th>6</th>\n",
       "      <td>{'eat': [123, 456], 'study': [123, 90, 234], '...</td>\n",
       "    </tr>\n",
       "  </tbody>\n",
       "</table>\n",
       "</div>"
      ],
      "text/plain": [
       "                                                 log\n",
       "0  {'eat': [23, 43, 44], 'study': [45, 90, 234], ...\n",
       "1  {'eat': [33, 55, 66], 'study': [90, 234], 'ent...\n",
       "2  {'eat': [99], 'study': [90, 234], 'entertain':...\n",
       "3  {'eat': [29], 'entertain': [950], 'date': '201...\n",
       "4  {'eat': [69], 'entertain': [150], 'date': '201...\n",
       "5  {'eat': [123], 'study': [90, 234], 'entertain'...\n",
       "6  {'eat': [123, 456], 'study': [123, 90, 234], '..."
      ]
     },
     "execution_count": 133,
     "metadata": {},
     "output_type": "execute_result"
    }
   ],
   "source": [
    "data"
   ]
  },
  {
   "cell_type": "code",
   "execution_count": 134,
   "metadata": {},
   "outputs": [
    {
     "data": {
      "text/plain": [
       "0    {'eat': [23, 43, 44], 'study': [45, 90, 234], ...\n",
       "1    {'eat': [33, 55, 66], 'study': [90, 234], 'ent...\n",
       "2    {'eat': [99], 'study': [90, 234], 'entertain':...\n",
       "3    {'eat': [29], 'entertain': [950], 'date': '201...\n",
       "4    {'eat': [69], 'entertain': [150], 'date': '201...\n",
       "5    {'eat': [123], 'study': [90, 234], 'entertain'...\n",
       "6    {'eat': [123, 456], 'study': [123, 90, 234], '...\n",
       "Name: log, dtype: object"
      ]
     },
     "execution_count": 134,
     "metadata": {},
     "output_type": "execute_result"
    }
   ],
   "source": [
    "data[\"log\"]"
   ]
  },
  {
   "cell_type": "code",
   "execution_count": 135,
   "metadata": {
    "collapsed": true
   },
   "outputs": [],
   "source": [
    "de=pd.read_json(data[\"log\"].to_json(),orient=\"index\")"
   ]
  },
  {
   "cell_type": "code",
   "execution_count": 136,
   "metadata": {},
   "outputs": [
    {
     "data": {
      "text/html": [
       "<div>\n",
       "<table border=\"1\" class=\"dataframe\">\n",
       "  <thead>\n",
       "    <tr style=\"text-align: right;\">\n",
       "      <th></th>\n",
       "      <th>date</th>\n",
       "      <th>eat</th>\n",
       "      <th>entertain</th>\n",
       "      <th>study</th>\n",
       "    </tr>\n",
       "  </thead>\n",
       "  <tbody>\n",
       "    <tr>\n",
       "      <th>0.0</th>\n",
       "      <td>2017-01-01</td>\n",
       "      <td>[23, 43, 44]</td>\n",
       "      <td>[450]</td>\n",
       "      <td>[45, 90, 234]</td>\n",
       "    </tr>\n",
       "    <tr>\n",
       "      <th>1.0</th>\n",
       "      <td>2017-01-02</td>\n",
       "      <td>[33, 55, 66]</td>\n",
       "      <td>[450]</td>\n",
       "      <td>[90, 234]</td>\n",
       "    </tr>\n",
       "    <tr>\n",
       "      <th>2.0</th>\n",
       "      <td>2017-01-03</td>\n",
       "      <td>[99]</td>\n",
       "      <td>[450]</td>\n",
       "      <td>[90, 234]</td>\n",
       "    </tr>\n",
       "    <tr>\n",
       "      <th>3.0</th>\n",
       "      <td>2017-02-01</td>\n",
       "      <td>[29]</td>\n",
       "      <td>[950]</td>\n",
       "      <td>NaN</td>\n",
       "    </tr>\n",
       "    <tr>\n",
       "      <th>4.0</th>\n",
       "      <td>2017-02-02</td>\n",
       "      <td>[69]</td>\n",
       "      <td>[150]</td>\n",
       "      <td>NaN</td>\n",
       "    </tr>\n",
       "    <tr>\n",
       "      <th>5.0</th>\n",
       "      <td>2017-03-02</td>\n",
       "      <td>[123]</td>\n",
       "      <td>[350]</td>\n",
       "      <td>[90, 234]</td>\n",
       "    </tr>\n",
       "    <tr>\n",
       "      <th>6.0</th>\n",
       "      <td>2017-05-02</td>\n",
       "      <td>[123, 456]</td>\n",
       "      <td>NaN</td>\n",
       "      <td>[123, 90, 234]</td>\n",
       "    </tr>\n",
       "  </tbody>\n",
       "</table>\n",
       "</div>"
      ],
      "text/plain": [
       "          date           eat entertain           study\n",
       "0.0 2017-01-01  [23, 43, 44]     [450]   [45, 90, 234]\n",
       "1.0 2017-01-02  [33, 55, 66]     [450]       [90, 234]\n",
       "2.0 2017-01-03          [99]     [450]       [90, 234]\n",
       "3.0 2017-02-01          [29]     [950]             NaN\n",
       "4.0 2017-02-02          [69]     [150]             NaN\n",
       "5.0 2017-03-02         [123]     [350]       [90, 234]\n",
       "6.0 2017-05-02    [123, 456]       NaN  [123, 90, 234]"
      ]
     },
     "execution_count": 136,
     "metadata": {},
     "output_type": "execute_result"
    }
   ],
   "source": [
    "de"
   ]
  },
  {
   "cell_type": "code",
   "execution_count": 137,
   "metadata": {},
   "outputs": [
    {
     "data": {
      "text/plain": [
       "0.0     [45, 90, 234]\n",
       "1.0         [90, 234]\n",
       "2.0         [90, 234]\n",
       "3.0               [0]\n",
       "4.0               [0]\n",
       "5.0         [90, 234]\n",
       "6.0    [123, 90, 234]\n",
       "Name: study, dtype: object"
      ]
     },
     "execution_count": 137,
     "metadata": {},
     "output_type": "execute_result"
    }
   ],
   "source": [
    "de['study'].fillna(\"[0]\")"
   ]
  },
  {
   "cell_type": "code",
   "execution_count": 138,
   "metadata": {},
   "outputs": [
    {
     "data": {
      "text/plain": [
       "154"
      ]
     },
     "execution_count": 138,
     "metadata": {},
     "output_type": "execute_result"
    }
   ],
   "source": [
    "sum(de.loc[1]['eat'])"
   ]
  },
  {
   "cell_type": "code",
   "execution_count": 139,
   "metadata": {},
   "outputs": [
    {
     "data": {
      "text/plain": [
       "66"
      ]
     },
     "execution_count": 139,
     "metadata": {},
     "output_type": "execute_result"
    }
   ],
   "source": [
    "max(de.loc[1]['eat'])"
   ]
  },
  {
   "cell_type": "code",
   "execution_count": 140,
   "metadata": {},
   "outputs": [
    {
     "data": {
      "text/plain": [
       "51.333333333333336"
      ]
     },
     "execution_count": 140,
     "metadata": {},
     "output_type": "execute_result"
    }
   ],
   "source": [
    "np.mean(de.loc[1]['eat'])"
   ]
  },
  {
   "cell_type": "code",
   "execution_count": 141,
   "metadata": {},
   "outputs": [
    {
     "data": {
      "text/plain": [
       "324"
      ]
     },
     "execution_count": 141,
     "metadata": {},
     "output_type": "execute_result"
    }
   ],
   "source": [
    "sum(de.loc[1]['study'])"
   ]
  },
  {
   "cell_type": "code",
   "execution_count": 142,
   "metadata": {},
   "outputs": [
    {
     "name": "stdout",
     "output_type": "stream",
     "text": [
      "0.0     [45, 90, 234]\n",
      "1.0         [90, 234]\n",
      "2.0         [90, 234]\n",
      "3.0               NaN\n",
      "4.0               NaN\n",
      "5.0         [90, 234]\n",
      "6.0    [123, 90, 234]\n",
      "Name: study, dtype: object\n"
     ]
    }
   ],
   "source": [
    "print(de['study'])"
   ]
  },
  {
   "cell_type": "code",
   "execution_count": 143,
   "metadata": {},
   "outputs": [],
   "source": [
    "def sumColumn(data):\n",
    "    total=0\n",
    "    for dd in data:\n",
    "        if not np.isnan(dd).any():\n",
    "            total+=sum(dd)\n",
    "            #print (sum(dd))\n",
    "        \n",
    "    return total\n"
   ]
  },
  {
   "cell_type": "code",
   "execution_count": 144,
   "metadata": {},
   "outputs": [
    {
     "name": "stdout",
     "output_type": "stream",
     "text": [
      "Total Study Cost 1788 Baht\n"
     ]
    }
   ],
   "source": [
    "totalStudyCost=sumColumn(de['study'])\n",
    "print(\"{} {} {}\".format('Total Study Cost', totalStudyCost,'Baht'))"
   ]
  },
  {
   "cell_type": "code",
   "execution_count": 145,
   "metadata": {},
   "outputs": [
    {
     "data": {
      "text/html": [
       "<div>\n",
       "<table border=\"1\" class=\"dataframe\">\n",
       "  <thead>\n",
       "    <tr style=\"text-align: right;\">\n",
       "      <th></th>\n",
       "      <th>date</th>\n",
       "      <th>eat</th>\n",
       "      <th>entertain</th>\n",
       "      <th>study</th>\n",
       "    </tr>\n",
       "  </thead>\n",
       "  <tbody>\n",
       "    <tr>\n",
       "      <th>0</th>\n",
       "      <td>2017-01-01</td>\n",
       "      <td>[23, 43, 44]</td>\n",
       "      <td>[450]</td>\n",
       "      <td>[45, 90, 234]</td>\n",
       "    </tr>\n",
       "    <tr>\n",
       "      <th>1</th>\n",
       "      <td>2017-01-02</td>\n",
       "      <td>[33, 55, 66]</td>\n",
       "      <td>[450]</td>\n",
       "      <td>[90, 234]</td>\n",
       "    </tr>\n",
       "    <tr>\n",
       "      <th>2</th>\n",
       "      <td>2017-01-03</td>\n",
       "      <td>[99]</td>\n",
       "      <td>[450]</td>\n",
       "      <td>[90, 234]</td>\n",
       "    </tr>\n",
       "  </tbody>\n",
       "</table>\n",
       "</div>"
      ],
      "text/plain": [
       "        date           eat entertain          study\n",
       "0 2017-01-01  [23, 43, 44]     [450]  [45, 90, 234]\n",
       "1 2017-01-02  [33, 55, 66]     [450]      [90, 234]\n",
       "2 2017-01-03          [99]     [450]      [90, 234]"
      ]
     },
     "execution_count": 145,
     "metadata": {},
     "output_type": "execute_result"
    }
   ],
   "source": [
    "de.loc[range(0,3)]"
   ]
  },
  {
   "cell_type": "code",
   "execution_count": 146,
   "metadata": {},
   "outputs": [
    {
     "data": {
      "text/html": [
       "<div>\n",
       "<table border=\"1\" class=\"dataframe\">\n",
       "  <thead>\n",
       "    <tr style=\"text-align: right;\">\n",
       "      <th></th>\n",
       "      <th>date</th>\n",
       "      <th>eat</th>\n",
       "      <th>entertain</th>\n",
       "      <th>study</th>\n",
       "    </tr>\n",
       "  </thead>\n",
       "  <tbody>\n",
       "    <tr>\n",
       "      <th>1</th>\n",
       "      <td>2017-01-02</td>\n",
       "      <td>[33, 55, 66]</td>\n",
       "      <td>[450]</td>\n",
       "      <td>[90, 234]</td>\n",
       "    </tr>\n",
       "    <tr>\n",
       "      <th>3</th>\n",
       "      <td>2017-02-01</td>\n",
       "      <td>[29]</td>\n",
       "      <td>[950]</td>\n",
       "      <td>NaN</td>\n",
       "    </tr>\n",
       "  </tbody>\n",
       "</table>\n",
       "</div>"
      ],
      "text/plain": [
       "        date           eat entertain      study\n",
       "1 2017-01-02  [33, 55, 66]     [450]  [90, 234]\n",
       "3 2017-02-01          [29]     [950]        NaN"
      ]
     },
     "execution_count": 146,
     "metadata": {},
     "output_type": "execute_result"
    }
   ],
   "source": [
    "de.loc[[1,3]]"
   ]
  },
  {
   "cell_type": "code",
   "execution_count": 147,
   "metadata": {},
   "outputs": [
    {
     "data": {
      "text/plain": [
       "0.0   2017-01-01\n",
       "1.0   2017-01-02\n",
       "2.0   2017-01-03\n",
       "3.0   2017-02-01\n",
       "4.0   2017-02-02\n",
       "5.0   2017-03-02\n",
       "6.0   2017-05-02\n",
       "Name: date, dtype: datetime64[ns]"
      ]
     },
     "execution_count": 147,
     "metadata": {},
     "output_type": "execute_result"
    }
   ],
   "source": [
    "de['date']"
   ]
  },
  {
   "cell_type": "code",
   "execution_count": 148,
   "metadata": {},
   "outputs": [
    {
     "data": {
      "text/plain": [
       "pandas.core.series.Series"
      ]
     },
     "execution_count": 148,
     "metadata": {},
     "output_type": "execute_result"
    }
   ],
   "source": [
    "type(de['date'])"
   ]
  },
  {
   "cell_type": "code",
   "execution_count": 149,
   "metadata": {
    "collapsed": true
   },
   "outputs": [],
   "source": [
    "de.index=de['date']"
   ]
  },
  {
   "cell_type": "code",
   "execution_count": 150,
   "metadata": {},
   "outputs": [
    {
     "data": {
      "text/plain": [
       "array([1, 1, 1, 2, 2, 3, 5])"
      ]
     },
     "execution_count": 150,
     "metadata": {},
     "output_type": "execute_result"
    }
   ],
   "source": [
    "de.index.month"
   ]
  },
  {
   "cell_type": "code",
   "execution_count": 151,
   "metadata": {},
   "outputs": [],
   "source": [
    "cost=pd.groupby(de,by=[de.index.month])"
   ]
  },
  {
   "cell_type": "code",
   "execution_count": 152,
   "metadata": {},
   "outputs": [
    {
     "data": {
      "text/plain": [
       "4"
      ]
     },
     "execution_count": 152,
     "metadata": {},
     "output_type": "execute_result"
    }
   ],
   "source": [
    "len(cost.sum())"
   ]
  },
  {
   "cell_type": "code",
   "execution_count": 153,
   "metadata": {},
   "outputs": [],
   "source": [
    "cst=cost.sum()"
   ]
  },
  {
   "cell_type": "code",
   "execution_count": 154,
   "metadata": {},
   "outputs": [
    {
     "name": "stdout",
     "output_type": "stream",
     "text": [
      "eat\n",
      "<class 'str'>\n",
      "entertain\n",
      "<class 'str'>\n",
      "study\n",
      "<class 'str'>\n"
     ]
    }
   ],
   "source": [
    "for gc in cst:\n",
    "    print(gc)\n",
    "    print(type(gc))"
   ]
  },
  {
   "cell_type": "code",
   "execution_count": 155,
   "metadata": {},
   "outputs": [
    {
     "data": {
      "text/html": [
       "<div>\n",
       "<table border=\"1\" class=\"dataframe\">\n",
       "  <thead>\n",
       "    <tr style=\"text-align: right;\">\n",
       "      <th></th>\n",
       "      <th>eat</th>\n",
       "      <th>entertain</th>\n",
       "      <th>study</th>\n",
       "    </tr>\n",
       "  </thead>\n",
       "  <tbody>\n",
       "    <tr>\n",
       "      <th>1</th>\n",
       "      <td>[23, 43, 44, 33, 55, 66, 99]</td>\n",
       "      <td>[450, 450, 450]</td>\n",
       "      <td>[45, 90, 234, 90, 234, 90, 234]</td>\n",
       "    </tr>\n",
       "    <tr>\n",
       "      <th>2</th>\n",
       "      <td>[29, 69]</td>\n",
       "      <td>[950, 150]</td>\n",
       "      <td>NaN</td>\n",
       "    </tr>\n",
       "    <tr>\n",
       "      <th>3</th>\n",
       "      <td>[123]</td>\n",
       "      <td>[350]</td>\n",
       "      <td>[90, 234]</td>\n",
       "    </tr>\n",
       "    <tr>\n",
       "      <th>5</th>\n",
       "      <td>[123, 456]</td>\n",
       "      <td>NaN</td>\n",
       "      <td>[123, 90, 234]</td>\n",
       "    </tr>\n",
       "  </tbody>\n",
       "</table>\n",
       "</div>"
      ],
      "text/plain": [
       "                            eat        entertain  \\\n",
       "1  [23, 43, 44, 33, 55, 66, 99]  [450, 450, 450]   \n",
       "2                      [29, 69]       [950, 150]   \n",
       "3                         [123]            [350]   \n",
       "5                    [123, 456]              NaN   \n",
       "\n",
       "                             study  \n",
       "1  [45, 90, 234, 90, 234, 90, 234]  \n",
       "2                              NaN  \n",
       "3                        [90, 234]  \n",
       "5                   [123, 90, 234]  "
      ]
     },
     "execution_count": 155,
     "metadata": {},
     "output_type": "execute_result"
    }
   ],
   "source": [
    "cost.sum()"
   ]
  },
  {
   "cell_type": "code",
   "execution_count": 156,
   "metadata": {},
   "outputs": [
    {
     "data": {
      "text/plain": [
       "eat             [23, 43, 44, 33, 55, 66, 99]\n",
       "entertain                    [450, 450, 450]\n",
       "study        [45, 90, 234, 90, 234, 90, 234]\n",
       "Name: 1, dtype: object"
      ]
     },
     "execution_count": 156,
     "metadata": {},
     "output_type": "execute_result"
    }
   ],
   "source": [
    "cst.loc[1]"
   ]
  },
  {
   "cell_type": "code",
   "execution_count": 157,
   "metadata": {},
   "outputs": [
    {
     "name": "stdout",
     "output_type": "stream",
     "text": [
      "<class 'pandas.core.series.Series'>\n",
      "Total Eat in Month1 2730 Baht\n"
     ]
    }
   ],
   "source": [
    "print(type(cst.loc[1]))\n",
    "totalStudyCost=sumColumn(cst.loc[1])\n",
    "print(\"{} {} {}\".format('Total Eat in Month1', totalStudyCost,'Baht'))"
   ]
  },
  {
   "cell_type": "code",
   "execution_count": 158,
   "metadata": {},
   "outputs": [
    {
     "name": "stdout",
     "output_type": "stream",
     "text": [
      "Total Eat in Month2 1198 Baht\n"
     ]
    }
   ],
   "source": [
    "totalStudyCost=sumColumn(cst.loc[2])\n",
    "print(\"{} {} {}\".format('Total Eat in Month2', totalStudyCost,'Baht'))"
   ]
  },
  {
   "cell_type": "code",
   "execution_count": 159,
   "metadata": {
    "collapsed": true
   },
   "outputs": [],
   "source": [
    "g = de.groupby(pd.TimeGrouper(\"M\"))"
   ]
  },
  {
   "cell_type": "code",
   "execution_count": 160,
   "metadata": {},
   "outputs": [
    {
     "data": {
      "text/html": [
       "<div>\n",
       "<table border=\"1\" class=\"dataframe\">\n",
       "  <thead>\n",
       "    <tr style=\"text-align: right;\">\n",
       "      <th></th>\n",
       "      <th>eat</th>\n",
       "      <th>entertain</th>\n",
       "      <th>study</th>\n",
       "    </tr>\n",
       "    <tr>\n",
       "      <th>date</th>\n",
       "      <th></th>\n",
       "      <th></th>\n",
       "      <th></th>\n",
       "    </tr>\n",
       "  </thead>\n",
       "  <tbody>\n",
       "    <tr>\n",
       "      <th>2017-01-31</th>\n",
       "      <td>[23, 43, 44, 33, 55, 66, 99]</td>\n",
       "      <td>[450, 450, 450]</td>\n",
       "      <td>[45, 90, 234, 90, 234, 90, 234]</td>\n",
       "    </tr>\n",
       "    <tr>\n",
       "      <th>2017-02-28</th>\n",
       "      <td>[29, 69]</td>\n",
       "      <td>[950, 150]</td>\n",
       "      <td>NaN</td>\n",
       "    </tr>\n",
       "    <tr>\n",
       "      <th>2017-03-31</th>\n",
       "      <td>[123]</td>\n",
       "      <td>[350]</td>\n",
       "      <td>[90, 234]</td>\n",
       "    </tr>\n",
       "    <tr>\n",
       "      <th>2017-04-30</th>\n",
       "      <td>0</td>\n",
       "      <td>0</td>\n",
       "      <td>0</td>\n",
       "    </tr>\n",
       "    <tr>\n",
       "      <th>2017-05-31</th>\n",
       "      <td>[123, 456]</td>\n",
       "      <td>NaN</td>\n",
       "      <td>[123, 90, 234]</td>\n",
       "    </tr>\n",
       "  </tbody>\n",
       "</table>\n",
       "</div>"
      ],
      "text/plain": [
       "                                     eat        entertain  \\\n",
       "date                                                        \n",
       "2017-01-31  [23, 43, 44, 33, 55, 66, 99]  [450, 450, 450]   \n",
       "2017-02-28                      [29, 69]       [950, 150]   \n",
       "2017-03-31                         [123]            [350]   \n",
       "2017-04-30                             0                0   \n",
       "2017-05-31                    [123, 456]              NaN   \n",
       "\n",
       "                                      study  \n",
       "date                                         \n",
       "2017-01-31  [45, 90, 234, 90, 234, 90, 234]  \n",
       "2017-02-28                              NaN  \n",
       "2017-03-31                        [90, 234]  \n",
       "2017-04-30                                0  \n",
       "2017-05-31                   [123, 90, 234]  "
      ]
     },
     "execution_count": 160,
     "metadata": {},
     "output_type": "execute_result"
    }
   ],
   "source": [
    "g.sum()"
   ]
  },
  {
   "cell_type": "code",
   "execution_count": 161,
   "metadata": {},
   "outputs": [],
   "source": [
    "GB=de.groupby([(de.index.month)]).sum()"
   ]
  },
  {
   "cell_type": "code",
   "execution_count": 162,
   "metadata": {},
   "outputs": [
    {
     "data": {
      "text/html": [
       "<div>\n",
       "<table border=\"1\" class=\"dataframe\">\n",
       "  <thead>\n",
       "    <tr style=\"text-align: right;\">\n",
       "      <th></th>\n",
       "      <th>eat</th>\n",
       "      <th>entertain</th>\n",
       "      <th>study</th>\n",
       "    </tr>\n",
       "  </thead>\n",
       "  <tbody>\n",
       "    <tr>\n",
       "      <th>1</th>\n",
       "      <td>[23, 43, 44, 33, 55, 66, 99]</td>\n",
       "      <td>[450, 450, 450]</td>\n",
       "      <td>[45, 90, 234, 90, 234, 90, 234]</td>\n",
       "    </tr>\n",
       "    <tr>\n",
       "      <th>2</th>\n",
       "      <td>[29, 69]</td>\n",
       "      <td>[950, 150]</td>\n",
       "      <td>NaN</td>\n",
       "    </tr>\n",
       "    <tr>\n",
       "      <th>3</th>\n",
       "      <td>[123]</td>\n",
       "      <td>[350]</td>\n",
       "      <td>[90, 234]</td>\n",
       "    </tr>\n",
       "    <tr>\n",
       "      <th>5</th>\n",
       "      <td>[123, 456]</td>\n",
       "      <td>NaN</td>\n",
       "      <td>[123, 90, 234]</td>\n",
       "    </tr>\n",
       "  </tbody>\n",
       "</table>\n",
       "</div>"
      ],
      "text/plain": [
       "                            eat        entertain  \\\n",
       "1  [23, 43, 44, 33, 55, 66, 99]  [450, 450, 450]   \n",
       "2                      [29, 69]       [950, 150]   \n",
       "3                         [123]            [350]   \n",
       "5                    [123, 456]              NaN   \n",
       "\n",
       "                             study  \n",
       "1  [45, 90, 234, 90, 234, 90, 234]  \n",
       "2                              NaN  \n",
       "3                        [90, 234]  \n",
       "5                   [123, 90, 234]  "
      ]
     },
     "execution_count": 162,
     "metadata": {},
     "output_type": "execute_result"
    }
   ],
   "source": [
    "GB"
   ]
  },
  {
   "cell_type": "code",
   "execution_count": 163,
   "metadata": {},
   "outputs": [
    {
     "data": {
      "text/plain": [
       "4"
      ]
     },
     "execution_count": 163,
     "metadata": {},
     "output_type": "execute_result"
    }
   ],
   "source": [
    "len(GB)"
   ]
  },
  {
   "cell_type": "code",
   "execution_count": 164,
   "metadata": {},
   "outputs": [
    {
     "data": {
      "text/plain": [
       "eat          4\n",
       "entertain    3\n",
       "study        3\n",
       "dtype: int64"
      ]
     },
     "execution_count": 164,
     "metadata": {},
     "output_type": "execute_result"
    }
   ],
   "source": [
    "GB.count()"
   ]
  },
  {
   "cell_type": "code",
   "execution_count": 165,
   "metadata": {
    "collapsed": true
   },
   "outputs": [],
   "source": [
    "def monthName(nam):\n",
    "    mnt={1:\"January\",\n",
    "            2:\"Febuary\",\n",
    "            3:\"March\",\n",
    "            4:\"April\",\n",
    "            5:\"May\"}\n",
    "    return mnt[nam]"
   ]
  },
  {
   "cell_type": "code",
   "execution_count": 177,
   "metadata": {},
   "outputs": [
    {
     "data": {
      "text/plain": [
       "'May'"
      ]
     },
     "execution_count": 177,
     "metadata": {},
     "output_type": "execute_result"
    }
   ],
   "source": [
    "monthName(5)"
   ]
  },
  {
   "cell_type": "code",
   "execution_count": 167,
   "metadata": {},
   "outputs": [
    {
     "name": "stdout",
     "output_type": "stream",
     "text": [
      "363\n",
      "98\n",
      "123\n",
      "579\n"
     ]
    }
   ],
   "source": [
    "sumeat=[]\n",
    "for gd in GB['eat']:\n",
    "    print(sum(gd))\n",
    "    sumeat.append(sum(gd))"
   ]
  },
  {
   "cell_type": "code",
   "execution_count": 168,
   "metadata": {},
   "outputs": [
    {
     "data": {
      "text/plain": [
       "[363, 98, 123, 579]"
      ]
     },
     "execution_count": 168,
     "metadata": {},
     "output_type": "execute_result"
    }
   ],
   "source": [
    "sumeat"
   ]
  },
  {
   "cell_type": "code",
   "execution_count": 169,
   "metadata": {},
   "outputs": [],
   "source": [
    "mnth=GB['eat'].index.tolist()"
   ]
  },
  {
   "cell_type": "code",
   "execution_count": 170,
   "metadata": {},
   "outputs": [
    {
     "name": "stdout",
     "output_type": "stream",
     "text": [
      "January\n",
      "Febuary\n",
      "March\n",
      "May\n"
     ]
    }
   ],
   "source": [
    "mnName=[]\n",
    "for mName in GB['eat'].index.tolist():\n",
    "    mnName.append(monthName(mName))\n",
    "    print(monthName(mName))"
   ]
  },
  {
   "cell_type": "code",
   "execution_count": 171,
   "metadata": {},
   "outputs": [
    {
     "data": {
      "text/plain": [
       "['January', 'Febuary', 'March', 'May']"
      ]
     },
     "execution_count": 171,
     "metadata": {},
     "output_type": "execute_result"
    }
   ],
   "source": [
    "mnName"
   ]
  },
  {
   "cell_type": "code",
   "execution_count": 174,
   "metadata": {
    "collapsed": true
   },
   "outputs": [],
   "source": [
    "import seaborn as sns\n",
    "sns.set(style=\"whitegrid\", color_codes=True)"
   ]
  },
  {
   "cell_type": "code",
   "execution_count": 176,
   "metadata": {},
   "outputs": [
    {
     "data": {
      "image/png": "[encoded data removed]",
      "text/plain": [
       "<matplotlib.figure.Figure at 0xaf6ae30>"
      ]
     },
     "metadata": {},
     "output_type": "display_data"
    }
   ],
   "source": [
    "sns.barplot(x=mnName,y=sumeat);"
   ]
  },
  {
   "cell_type": "code",
   "execution_count": null,
   "metadata": {
    "collapsed": true
   },
   "outputs": [],
   "source": []
  }
 ],
 "metadata": {
  "kernelspec": {
   "display_name": "Python 3",
   "language": "python",
   "name": "python3"
  },
  "language_info": {
   "codemirror_mode": {
    "name": "ipython",
    "version": 3
   },
   "file_extension": ".py",
   "mimetype": "text/x-python",
   "name": "python",
   "nbconvert_exporter": "python",
   "pygments_lexer": "ipython3",
   "version": "3.7.1"
  }
 },
 "nbformat": 4,
 "nbformat_minor": 1
}

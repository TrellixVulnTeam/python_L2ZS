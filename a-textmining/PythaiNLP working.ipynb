{
 "cells": [
  {
   "cell_type": "code",
   "execution_count": 1,
   "metadata": {},
   "outputs": [
    {
     "data": {
      "text/plain": [
       "'2.1'"
      ]
     },
     "execution_count": 1,
     "metadata": {},
     "output_type": "execute_result"
    }
   ],
   "source": [
    "import pythainlp\n",
    "\n",
    "pythainlp.__version__"
   ]
  },
  {
   "cell_type": "code",
   "execution_count": 2,
   "metadata": {},
   "outputs": [],
   "source": [
    "from pythainlp.tag import pos_tag, pos_tag_sents"
   ]
  },
  {
   "cell_type": "code",
   "execution_count": 3,
   "metadata": {},
   "outputs": [
    {
     "data": {
      "text/plain": [
       "[('การ', 'FIXN'), ('เดินทาง', 'VACT')]"
      ]
     },
     "execution_count": 3,
     "metadata": {},
     "output_type": "execute_result"
    }
   ],
   "source": [
    "pos_tag([\"การ\",\"เดินทาง\"])"
   ]
  },
  {
   "cell_type": "code",
   "execution_count": 4,
   "metadata": {},
   "outputs": [
    {
     "data": {
      "text/plain": [
       "[[('ประกาศสำนักนายกฯ', 'NCMN'),\n",
       "  (' ', 'PUNC'),\n",
       "  ('ให้', 'JSBR'),\n",
       "  (' ', 'PUNC'),\n",
       "  (\"'พล.ท.สรรเสริญ แก้วกำเนิด'\", 'NCMN'),\n",
       "  (' ', 'PUNC'),\n",
       "  ('พ้นจากตำแหน่ง', 'NCMN'),\n",
       "  (' ', 'PUNC'),\n",
       "  ('ผู้ทรงคุณวุฒิพิเศษ', 'NCMN'),\n",
       "  ('กองทัพบก', 'NCMN'),\n",
       "  (' ', 'PUNC'),\n",
       "  ('กระทรวงกลาโหม', 'NCMN')],\n",
       " [('และ', 'JCRG'),\n",
       "  ('แต่งตั้ง', 'VACT'),\n",
       "  ('ให้', 'JSBR'),\n",
       "  ('เป็น', 'VSTA'),\n",
       "  (\"'อธิบดีกรมประชาสัมพันธ์'\", 'NCMN')]]"
      ]
     },
     "execution_count": 4,
     "metadata": {},
     "output_type": "execute_result"
    }
   ],
   "source": [
    "sents = [[\"ประกาศสำนักนายกฯ\", \" \", \"ให้\",\n",
    "    \" \", \"'พล.ท.สรรเสริญ แก้วกำเนิด'\", \" \", \"พ้นจากตำแหน่ง\",\n",
    "    \" \", \"ผู้ทรงคุณวุฒิพิเศษ\", \"กองทัพบก\", \" \", \"กระทรวงกลาโหม\"],\n",
    "    [\"และ\", \"แต่งตั้ง\", \"ให้\", \"เป็น\", \"'อธิบดีกรมประชาสัมพันธ์'\"]]\n",
    "\n",
    "pos_tag_sents(sents)"
   ]
  },
  {
   "cell_type": "code",
   "execution_count": 5,
   "metadata": {},
   "outputs": [],
   "source": [
    "from pythainlp.tag.named_entity import ThaiNameTagger"
   ]
  },
  {
   "cell_type": "code",
   "execution_count": 6,
   "metadata": {},
   "outputs": [
    {
     "name": "stdout",
     "output_type": "stream",
     "text": [
      "Corpus: thainer-1-3\n",
      "- Downloading: thainer-1-3 1.3\n"
     ]
    },
    {
     "name": "stderr",
     "output_type": "stream",
     "text": [
      "100%|███████████████████████████████████████████████████████████████████| 1872468/1872468 [00:00<00:00, 7008959.23it/s]\n"
     ]
    },
    {
     "data": {
      "text/plain": [
       "[('15', 'NUM', 'B-DATE'),\n",
       " (' ', 'PUNCT', 'I-DATE'),\n",
       " ('ก.ย.', 'NOUN', 'I-DATE'),\n",
       " (' ', 'PUNCT', 'I-DATE'),\n",
       " ('61', 'NUM', 'I-DATE'),\n",
       " (' ', 'PUNCT', 'O'),\n",
       " ('ทดสอบ', 'VERB', 'O'),\n",
       " ('ระบบ', 'NOUN', 'O'),\n",
       " ('เวลา', 'NOUN', 'O'),\n",
       " (' ', 'PUNCT', 'O'),\n",
       " ('14', 'NOUN', 'B-TIME'),\n",
       " (':', 'PUNCT', 'I-TIME'),\n",
       " ('49', 'NUM', 'I-TIME'),\n",
       " (' ', 'PUNCT', 'I-TIME'),\n",
       " ('น.', 'NOUN', 'I-TIME'),\n",
       " (' ', 'PUNCT', 'O'),\n",
       " ('เดินทาง', 'VERB', 'O'),\n",
       " ('จาก', 'ADP', 'O'),\n",
       " ('กทม.', 'NOUN', 'B-LOCATION'),\n",
       " ('ไป', 'AUX', 'O'),\n",
       " ('จังหวัด', 'NOUN', 'B-LOCATION'),\n",
       " ('กำแพงเพชร', 'NOUN', 'I-LOCATION'),\n",
       " (' ', 'PUNCT', 'O'),\n",
       " ('ตั๋ว', 'NOUN', 'O'),\n",
       " ('ราคา', 'NOUN', 'O'),\n",
       " (' ', 'PUNCT', 'O'),\n",
       " ('297', 'NUM', 'B-MONEY'),\n",
       " (' ', 'PUNCT', 'I-MONEY'),\n",
       " ('บาท', 'NOUN', 'I-MONEY')]"
      ]
     },
     "execution_count": 6,
     "metadata": {},
     "output_type": "execute_result"
    }
   ],
   "source": [
    "ner = ThaiNameTagger()\n",
    "ner.get_ner(\"15 ก.ย. 61 ทดสอบระบบเวลา 14:49 น. เดินทางจากกทม.ไปจังหวัดกำแพงเพชร ตั๋วราคา 297 บาท\")"
   ]
  },
  {
   "cell_type": "code",
   "execution_count": 12,
   "metadata": {},
   "outputs": [
    {
     "name": "stdout",
     "output_type": "stream",
     "text": [
      "default dictionary: ['บ้าน', 'ตา', 'ยาย', 'สะพาย', 'กระเป๋า']\n",
      "custom dictionary : ['บ้าน', 'ตา', 'ยาย', 'สะพาย', 'กระเป๋า']\n"
     ]
    }
   ],
   "source": [
    "from pythainlp import sent_tokenize, word_tokenize\n",
    "from pythainlp.corpus.common import thai_words\n",
    "from pythainlp import Tokenizer\n",
    "\n"
   ]
  },
  {
   "cell_type": "code",
   "execution_count": 16,
   "metadata": {},
   "outputs": [
    {
     "name": "stdout",
     "output_type": "stream",
     "text": [
      "default dictionary: ['รอง', 'นายกฯ', ' ', 'สม', 'คิด', ' ', 'จาตุ', 'ศรี', 'พิทักษ์']\n",
      "custom dictionary : ['รอง', 'นายกฯ', ' ', 'สมคิด', ' ', 'จาตุศรีพิทักษ์']\n"
     ]
    }
   ],
   "source": [
    "text = \"รองนายกฯ สมคิด จาตุศรีพิทักษ์\"\n",
    "\n",
    "print(\"default dictionary:\", word_tokenize(text))\n",
    "\n",
    "words = set(thai_words())  # thai_words() returns frozenset\n",
    "words.add(\"สมคิด\")  # Isaac\n",
    "words.add(\"จาตุศรีพิทักษ์\")  # Asimov\n",
    "custom_tokenizer = Tokenizer(words)\n",
    "print(\"custom dictionary :\", custom_tokenizer.word_tokenize(text))"
   ]
  },
  {
   "cell_type": "code",
   "execution_count": null,
   "metadata": {},
   "outputs": [],
   "source": []
  }
 ],
 "metadata": {
  "kernelspec": {
   "display_name": "Python 3",
   "language": "python",
   "name": "python3"
  },
  "language_info": {
   "codemirror_mode": {
    "name": "ipython",
    "version": 3
   },
   "file_extension": ".py",
   "mimetype": "text/x-python",
   "name": "python",
   "nbconvert_exporter": "python",
   "pygments_lexer": "ipython3",
   "version": "3.7.1"
  }
 },
 "nbformat": 4,
 "nbformat_minor": 2
}

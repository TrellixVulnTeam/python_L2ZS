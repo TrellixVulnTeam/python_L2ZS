{
 "cells": [
  {
   "cell_type": "code",
   "execution_count": 1,
   "metadata": {
    "collapsed": true
   },
   "outputs": [],
   "source": [
    "from zeep import Client\n",
    "from lxml import etree\n"
   ]
  },
  {
   "cell_type": "code",
   "execution_count": 2,
   "metadata": {
    "collapsed": true
   },
   "outputs": [],
   "source": [
    "import codecs\n",
    "import pandas as pd"
   ]
  },
  {
   "cell_type": "code",
   "execution_count": 3,
   "metadata": {
    "collapsed": true
   },
   "outputs": [],
   "source": [
    "client = Client('http://www.pttplc.com/webservice/pttinfo.asmx?WSDL')\n",
    "#result = client.service.CurrentOilPrice(\"en\")"
   ]
  },
  {
   "cell_type": "code",
   "execution_count": 25,
   "metadata": {
    "collapsed": true
   },
   "outputs": [],
   "source": [
    "year='2019'\n",
    "month='08'\n",
    "date='11'"
   ]
  },
  {
   "cell_type": "code",
   "execution_count": 25,
   "metadata": {},
   "outputs": [
    {
     "name": "stdout",
     "output_type": "stream",
     "text": [
      "2017\n",
      "t3 = 942 days, 0:00:00\n"
     ]
    }
   ],
   "source": [
    "from datetime import datetime, date\n",
    "\n",
    "start='2017-1-1'\n",
    "end='2019-8-1'\n",
    "st=start.split(\"-\")\n",
    "en=end.split(\"-\")\n",
    "start = date(year=int(st[0]), month=int(st[1]), day=int(st[2]))\n",
    "end = date(year=int(en[0]), month=int(en[1]), day=int(en[2]))\n",
    "days = end - start\n",
    "print(\"t3 =\", t3)"
   ]
  },
  {
   "cell_type": "code",
   "execution_count": 36,
   "metadata": {},
   "outputs": [],
   "source": [
    "tc=str(t3).split(\" \")"
   ]
  },
  {
   "cell_type": "code",
   "execution_count": 37,
   "metadata": {},
   "outputs": [
    {
     "name": "stdout",
     "output_type": "stream",
     "text": [
      "942\n"
     ]
    }
   ],
   "source": [
    "print(tc[0])"
   ]
  },
  {
   "cell_type": "code",
   "execution_count": 46,
   "metadata": {
    "collapsed": true
   },
   "outputs": [],
   "source": [
    "from datetime import timedelta"
   ]
  },
  {
   "cell_type": "code",
   "execution_count": 36,
   "metadata": {
    "collapsed": true
   },
   "outputs": [],
   "source": [
    "import pandas as pd\n",
    "date1 = '2011-05-03'\n",
    "date2 = '2011-05-10'\n",
    "mydates = pd.date_range(date1, date2).tolist()"
   ]
  },
  {
   "cell_type": "code",
   "execution_count": 45,
   "metadata": {},
   "outputs": [
    {
     "name": "stdout",
     "output_type": "stream",
     "text": [
      "2011-02-01\n",
      "2011-02-02\n",
      "2011-02-03\n",
      "2011-02-04\n",
      "2011-02-05\n",
      "2011-02-06\n",
      "2011-02-07\n",
      "2011-02-08\n",
      "2011-02-09\n",
      "2011-02-10\n",
      "2011-02-11\n",
      "2011-02-12\n",
      "2011-02-13\n",
      "2011-02-14\n",
      "2011-02-15\n",
      "2011-02-16\n",
      "2011-02-17\n",
      "2011-02-18\n",
      "2011-02-19\n",
      "2011-02-20\n",
      "2011-02-21\n",
      "2011-02-22\n",
      "2011-02-23\n",
      "2011-02-24\n",
      "2011-02-25\n",
      "2011-02-26\n",
      "2011-02-27\n",
      "2011-02-28\n",
      "2011-03-01\n",
      "2011-03-02\n",
      "2011-03-03\n",
      "2011-03-04\n",
      "2011-03-05\n",
      "2011-03-06\n",
      "2011-03-07\n",
      "2011-03-08\n",
      "2011-03-09\n",
      "2011-03-10\n",
      "2011-03-11\n"
     ]
    }
   ],
   "source": [
    "import datetime\n",
    "\n",
    "for a in range(39):\n",
    "    print(datetime.date(2011,2,1) + datetime.timedelta(a))"
   ]
  },
  {
   "cell_type": "code",
   "execution_count": 30,
   "metadata": {
    "collapsed": true
   },
   "outputs": [],
   "source": [
    "result=client.service.GetOilPrice(\"en\",date,month,year)"
   ]
  },
  {
   "cell_type": "code",
   "execution_count": 31,
   "metadata": {
    "collapsed": true
   },
   "outputs": [],
   "source": [
    "root = etree.fromstring(result)"
   ]
  },
  {
   "cell_type": "code",
   "execution_count": 32,
   "metadata": {},
   "outputs": [
    {
     "data": {
      "text/plain": [
       "<Element PTT_DS at 0x24004443448>"
      ]
     },
     "execution_count": 32,
     "metadata": {},
     "output_type": "execute_result"
    }
   ],
   "source": [
    "root"
   ]
  },
  {
   "cell_type": "code",
   "execution_count": 34,
   "metadata": {},
   "outputs": [
    {
     "name": "stdout",
     "output_type": "stream",
     "text": [
      "Blue Gasohol 95 27.25  BAHT\n"
     ]
    }
   ],
   "source": [
    "for r in root.xpath('DataAccess'):\n",
    "        product = r.xpath('PRODUCT/text()')[0]\n",
    "        price = r.xpath('PRICE/text()') or [0]\n",
    "        if (product == \"Blue Gasohol 95\"):\n",
    "            print(product,float(price[0]),' BAHT')\n"
   ]
  },
  {
   "cell_type": "code",
   "execution_count": 35,
   "metadata": {},
   "outputs": [
    {
     "name": "stdout",
     "output_type": "stream",
     "text": [
      "Blue Gasoline 95\n",
      "Blue Gasoline 91\n",
      "Blue Diesel\n",
      "Blue Gasohol 91\n",
      "Blue Gasohol E20\n",
      "NGV\n",
      "Blue Gasohol 95\n",
      "DIESEL PALM\n",
      "Blue Diesel B5\n",
      "Blue Gasohol E85\n",
      "HyForce Premium Diesel\n"
     ]
    }
   ],
   "source": [
    "for r in root.xpath('DataAccess'):\n",
    "        product = r.xpath('PRODUCT/text()')[0]\n",
    "        print(product)\n"
   ]
  },
  {
   "cell_type": "code",
   "execution_count": null,
   "metadata": {
    "collapsed": true
   },
   "outputs": [],
   "source": [
    "# fuel rate from csv file\n",
    "fuel = pd.read_csv('D:/Bigdata/dataset/expense/fuel_rate.csv',sep=\",\",header=0)"
   ]
  },
  {
   "cell_type": "code",
   "execution_count": 38,
   "metadata": {
    "collapsed": true
   },
   "outputs": [],
   "source": [
    "# fuel rate from csv file\n",
    "fuel = pd.read_csv('D:/Bigdata/dataset/expense/fuel_rate.csv',sep=\",\",header=0)\n",
    "\n",
    "# Calculate expense rate from oil price\n",
    "def getOilRate(oilPrice):\n",
    "    x=0\n",
    "    for ix in fuel['Start']:\n",
    "        if(oilPrice > fuel['Start'][x] and oilPrice < fuel['Start'][x+1]):\n",
    "            result=fuel['Rate'][x]\n",
    "        x=x+1\n",
    "    return result"
   ]
  },
  {
   "cell_type": "code",
   "execution_count": 39,
   "metadata": {
    "collapsed": true
   },
   "outputs": [],
   "source": [
    "# Write ExpenseLog to csv file\n",
    "import time\n",
    "import datetime\n",
    "def writeCSV(date,OilPrice,ExpenseRate):\n",
    "            text_file = codecs.open(\"ExpenseLog.csv\", \"a\", 'UTF-8')\n",
    "            # Returns unix timestamp for current time\n",
    "            timestamp = time.time()\n",
    "            # Get datetime object in local time\n",
    "            d = datetime.datetime.fromtimestamp(timestamp)        \n",
    "            #text_file.write(str(date)+\"\\n\")\n",
    "            text_file.write(str(date)+\",\"+str(OilPrice)+\",\"+str(ExpenseRate)+\",\"+d.strftime(\"%d.%m.%y %H:%M:%S\")+\"\\n\")\n",
    "            text_file.close()\n",
    "    "
   ]
  },
  {
   "cell_type": "code",
   "execution_count": 40,
   "metadata": {
    "collapsed": true
   },
   "outputs": [],
   "source": [
    "def getOilPrice(date):\n",
    "    dx=date.split(\"-\")\n",
    "    result = client.service.GetOilPrice(\"en\",dx[2],dx[1],dx[0])   #  Year,Month,Date\n",
    "    root = etree.fromstring(result) \n",
    "    for r in root.xpath('DataAccess'):\n",
    "        product = r.xpath('PRODUCT/text()')[0]\n",
    "        price = r.xpath('PRICE/text()') or [0]\n",
    "        if (product == \"Blue Gasohol 95\"):\n",
    "            #print(\"Fuel Price on Date : 8 January 2010\")\n",
    "            #print(product,float(price[0]),' BAHT')\n",
    "            result=getOilRate(float(price[0]))\n",
    "            # Write to ExpenseLog csv file\n",
    "            writeCSV(date,OilPrice=float(price[0]),ExpenseRate=result)\n",
    "                       \n",
    "    #return price[0]\n",
    "    return result  "
   ]
  },
  {
   "cell_type": "code",
   "execution_count": 41,
   "metadata": {},
   "outputs": [
    {
     "name": "stdout",
     "output_type": "stream",
     "text": [
      "Expense Rate 6.0 Bht/Km\n"
     ]
    }
   ],
   "source": [
    "print(\"Expense Rate\",getOilPrice(\"2018-12-17\"),\"Bht/Km\")"
   ]
  },
  {
   "cell_type": "code",
   "execution_count": null,
   "metadata": {
    "collapsed": true
   },
   "outputs": [],
   "source": []
  }
 ],
 "metadata": {
  "kernelspec": {
   "display_name": "Python 3",
   "language": "python",
   "name": "python3"
  },
  "language_info": {
   "codemirror_mode": {
    "name": "ipython",
    "version": 3
   },
   "file_extension": ".py",
   "mimetype": "text/x-python",
   "name": "python",
   "nbconvert_exporter": "python",
   "pygments_lexer": "ipython3",
   "version": "3.7.1"
  }
 },
 "nbformat": 4,
 "nbformat_minor": 1
}

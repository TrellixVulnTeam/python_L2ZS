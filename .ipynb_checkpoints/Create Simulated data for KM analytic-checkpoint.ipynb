{
 "cells": [
  {
   "cell_type": "code",
   "execution_count": 134,
   "metadata": {},
   "outputs": [],
   "source": [
    "import pandas as pd\n",
    "import random\n",
    "from random import shuffle"
   ]
  },
  {
   "cell_type": "code",
   "execution_count": 135,
   "metadata": {},
   "outputs": [],
   "source": [
    "df = pd.read_csv('AdventureWork_name_employee.csv',sep=\",\",names= ['id','name'])"
   ]
  },
  {
   "cell_type": "markdown",
   "metadata": {},
   "source": [
    "##  Covert data from file to list"
   ]
  },
  {
   "cell_type": "code",
   "execution_count": 136,
   "metadata": {},
   "outputs": [],
   "source": [
    "list_reader=df['id'].tolist()"
   ]
  },
  {
   "cell_type": "markdown",
   "metadata": {},
   "source": [
    "## Create function to create random unique list of Employees"
   ]
  },
  {
   "cell_type": "code",
   "execution_count": 137,
   "metadata": {},
   "outputs": [],
   "source": [
    "# Function to create list of unique employee joining in each CoP session\n",
    "def randomUniqueList(number,listData):\n",
    "    ex=[]\n",
    "    for i in range (0,number):\n",
    "        shuffle(listData)  #re-arrange order of memeber in the list\n",
    "        mylist2 = listData\n",
    "        dax=mylist2.pop()  #select random member in unique fashion\n",
    "        ex.append(dax)\n",
    "    return ex\n",
    "        "
   ]
  },
  {
   "cell_type": "markdown",
   "metadata": {},
   "source": [
    "## Create number of CoP each Years"
   ]
  },
  {
   "cell_type": "code",
   "execution_count": 138,
   "metadata": {},
   "outputs": [],
   "source": [
    "Years=4\n",
    "StartYear=2015\n"
   ]
  },
  {
   "cell_type": "markdown",
   "metadata": {},
   "source": [
    "### Create list of years"
   ]
  },
  {
   "cell_type": "code",
   "execution_count": 139,
   "metadata": {},
   "outputs": [],
   "source": [
    "listYear=[]\n",
    "for i in range(4):\n",
    "    listYear.append(StartYear+i)"
   ]
  },
  {
   "cell_type": "markdown",
   "metadata": {},
   "source": [
    "### Create list of CoP each year"
   ]
  },
  {
   "cell_type": "code",
   "execution_count": 140,
   "metadata": {},
   "outputs": [],
   "source": [
    "#CoP each Year\n",
    "CoP=[]\n",
    "a=0\n",
    "TotalNoCoP=0\n",
    "for i in range(StartYear,(StartYear+Years)):\n",
    "    if(a<2):\n",
    "        ans=random.randrange(2,4)\n",
    "    else :\n",
    "        ans=random.randrange(4,9)\n",
    "    CoP.append(ans)\n",
    "    a+=1\n",
    "    TotalNoCoP+=ans"
   ]
  },
  {
   "cell_type": "markdown",
   "metadata": {},
   "source": [
    "### Manipulate years in CoP data"
   ]
  },
  {
   "cell_type": "code",
   "execution_count": 141,
   "metadata": {},
   "outputs": [],
   "source": [
    "yearsCoP=[]\n",
    "for i in range(len(CoP)):\n",
    "    for z in range(CoP[i]):\n",
    "        #print(i+1,listYear[i],z+1)\n",
    "        yearsCoP.append(listYear[i])        \n"
   ]
  },
  {
   "cell_type": "markdown",
   "metadata": {},
   "source": [
    "## Creat number of Prticipant in each CoPs"
   ]
  },
  {
   "cell_type": "code",
   "execution_count": 142,
   "metadata": {},
   "outputs": [],
   "source": [
    "ParticipantCoPNo=[]\n",
    "for i in range(TotalNoCoP):\n",
    "    ParticipantCoPNo.append(random.randrange(15,45))\n",
    "    "
   ]
  },
  {
   "cell_type": "markdown",
   "metadata": {},
   "source": [
    "###  Total count Most of CoPs "
   ]
  },
  {
   "cell_type": "code",
   "execution_count": 143,
   "metadata": {},
   "outputs": [
    {
     "data": {
      "text/plain": [
       "14"
      ]
     },
     "execution_count": 143,
     "metadata": {},
     "output_type": "execute_result"
    }
   ],
   "source": [
    "len(ParticipantCoPNo)"
   ]
  },
  {
   "cell_type": "markdown",
   "metadata": {},
   "source": [
    "## Create list of participants in each CoPs"
   ]
  },
  {
   "cell_type": "code",
   "execution_count": 144,
   "metadata": {},
   "outputs": [],
   "source": [
    "ListParticipant=[]\n",
    "for i in range(TotalNoCoP):\n",
    "    ans=randomUniqueList(ParticipantCoPNo[i],list_reader)\n",
    "    ListParticipant.append(ans)\n",
    "    "
   ]
  },
  {
   "cell_type": "code",
   "execution_count": 145,
   "metadata": {},
   "outputs": [
    {
     "name": "stdout",
     "output_type": "stream",
     "text": [
      "[153, 253, 915, 224, 481, 650, 892, 494, 914, 956, 607, 392, 831, 984, 751, 544, 292, 899]\n",
      "18\n"
     ]
    }
   ],
   "source": [
    "print(ListParticipant[2])\n",
    "print(len(ListParticipant[2]))"
   ]
  },
  {
   "cell_type": "markdown",
   "metadata": {},
   "source": [
    "## Create Topics and Tags"
   ]
  },
  {
   "cell_type": "code",
   "execution_count": 146,
   "metadata": {},
   "outputs": [],
   "source": [
    "CoPTopic=[]\n",
    "CoPTag1=[]\n",
    "CoPTag2=[]\n",
    "for i in range(1,TotalNoCoP+1):\n",
    "    CoPTopic.append(\"CoP Topic\"+str(i))\n",
    "    CoPTag1.append(random.randrange(1,4))\n",
    "    CoPTag2.append(random.randrange(1,6))\n",
    "    "
   ]
  },
  {
   "cell_type": "code",
   "execution_count": 147,
   "metadata": {},
   "outputs": [
    {
     "name": "stdout",
     "output_type": "stream",
     "text": [
      "['CoP Topic1', 'CoP Topic2', 'CoP Topic3', 'CoP Topic4', 'CoP Topic5', 'CoP Topic6', 'CoP Topic7', 'CoP Topic8', 'CoP Topic9', 'CoP Topic10', 'CoP Topic11', 'CoP Topic12', 'CoP Topic13', 'CoP Topic14']\n"
     ]
    }
   ],
   "source": [
    "print(CoPTopic)"
   ]
  },
  {
   "cell_type": "markdown",
   "metadata": {},
   "source": [
    "## Assign Speaker ,time periods  in each CoPs"
   ]
  },
  {
   "cell_type": "code",
   "execution_count": 148,
   "metadata": {},
   "outputs": [],
   "source": [
    "Speaker=[]\n",
    "Duration=[]\n",
    "FeedbackScore=[]\n",
    "CoPNo=[]\n",
    "for i in range(TotalNoCoP):\n",
    "    Speaker.append(randomUniqueList(1,list_reader)[0])\n",
    "    Duration.append(random.randrange(2,4))\n",
    "    FeedbackScore.append(random.randrange(3,5))\n",
    "    CoPNo.append(i+1)\n",
    "    "
   ]
  },
  {
   "cell_type": "code",
   "execution_count": 149,
   "metadata": {},
   "outputs": [
    {
     "name": "stdout",
     "output_type": "stream",
     "text": [
      "[380, 340, 679, 233, 676, 696, 86, 74, 872, 111, 373, 178, 43, 119] [3, 3, 2, 3, 2, 2, 2, 3, 2, 2, 3, 3, 2, 2]\n"
     ]
    }
   ],
   "source": [
    "print(Speaker,Duration)"
   ]
  },
  {
   "cell_type": "markdown",
   "metadata": {},
   "source": [
    "## Create dataframe from lists"
   ]
  },
  {
   "cell_type": "code",
   "execution_count": 150,
   "metadata": {},
   "outputs": [],
   "source": [
    "df = pd.DataFrame(list(zip(CoPNo,yearsCoP,CoPTopic,Speaker, Duration,FeedbackScore,CoPTag1,CoPTag2,ParticipantCoPNo)), \n",
    "               columns =['CoPNo','yearsCoP','CoPTopic','Speaker', 'Duration','FeedbackScore','CoPTag1','CoPTag2','ParticipantCoPNo'])"
   ]
  },
  {
   "cell_type": "code",
   "execution_count": 151,
   "metadata": {},
   "outputs": [
    {
     "data": {
      "text/html": [
       "<div>\n",
       "<style scoped>\n",
       "    .dataframe tbody tr th:only-of-type {\n",
       "        vertical-align: middle;\n",
       "    }\n",
       "\n",
       "    .dataframe tbody tr th {\n",
       "        vertical-align: top;\n",
       "    }\n",
       "\n",
       "    .dataframe thead th {\n",
       "        text-align: right;\n",
       "    }\n",
       "</style>\n",
       "<table border=\"1\" class=\"dataframe\">\n",
       "  <thead>\n",
       "    <tr style=\"text-align: right;\">\n",
       "      <th></th>\n",
       "      <th>CoPNo</th>\n",
       "      <th>yearsCoP</th>\n",
       "      <th>CoPTopic</th>\n",
       "      <th>Speaker</th>\n",
       "      <th>Duration</th>\n",
       "      <th>FeedbackScore</th>\n",
       "      <th>CoPTag1</th>\n",
       "      <th>CoPTag2</th>\n",
       "      <th>ParticipantCoPNo</th>\n",
       "    </tr>\n",
       "  </thead>\n",
       "  <tbody>\n",
       "    <tr>\n",
       "      <th>0</th>\n",
       "      <td>1</td>\n",
       "      <td>2015</td>\n",
       "      <td>CoP Topic1</td>\n",
       "      <td>380</td>\n",
       "      <td>3</td>\n",
       "      <td>4</td>\n",
       "      <td>3</td>\n",
       "      <td>5</td>\n",
       "      <td>23</td>\n",
       "    </tr>\n",
       "    <tr>\n",
       "      <th>1</th>\n",
       "      <td>2</td>\n",
       "      <td>2015</td>\n",
       "      <td>CoP Topic2</td>\n",
       "      <td>340</td>\n",
       "      <td>3</td>\n",
       "      <td>3</td>\n",
       "      <td>3</td>\n",
       "      <td>1</td>\n",
       "      <td>37</td>\n",
       "    </tr>\n",
       "    <tr>\n",
       "      <th>2</th>\n",
       "      <td>3</td>\n",
       "      <td>2016</td>\n",
       "      <td>CoP Topic3</td>\n",
       "      <td>679</td>\n",
       "      <td>2</td>\n",
       "      <td>4</td>\n",
       "      <td>1</td>\n",
       "      <td>4</td>\n",
       "      <td>18</td>\n",
       "    </tr>\n",
       "    <tr>\n",
       "      <th>3</th>\n",
       "      <td>4</td>\n",
       "      <td>2016</td>\n",
       "      <td>CoP Topic4</td>\n",
       "      <td>233</td>\n",
       "      <td>3</td>\n",
       "      <td>3</td>\n",
       "      <td>3</td>\n",
       "      <td>2</td>\n",
       "      <td>39</td>\n",
       "    </tr>\n",
       "    <tr>\n",
       "      <th>4</th>\n",
       "      <td>5</td>\n",
       "      <td>2017</td>\n",
       "      <td>CoP Topic5</td>\n",
       "      <td>676</td>\n",
       "      <td>2</td>\n",
       "      <td>4</td>\n",
       "      <td>3</td>\n",
       "      <td>5</td>\n",
       "      <td>41</td>\n",
       "    </tr>\n",
       "    <tr>\n",
       "      <th>5</th>\n",
       "      <td>6</td>\n",
       "      <td>2017</td>\n",
       "      <td>CoP Topic6</td>\n",
       "      <td>696</td>\n",
       "      <td>2</td>\n",
       "      <td>3</td>\n",
       "      <td>2</td>\n",
       "      <td>4</td>\n",
       "      <td>21</td>\n",
       "    </tr>\n",
       "    <tr>\n",
       "      <th>6</th>\n",
       "      <td>7</td>\n",
       "      <td>2017</td>\n",
       "      <td>CoP Topic7</td>\n",
       "      <td>86</td>\n",
       "      <td>2</td>\n",
       "      <td>4</td>\n",
       "      <td>2</td>\n",
       "      <td>2</td>\n",
       "      <td>34</td>\n",
       "    </tr>\n",
       "    <tr>\n",
       "      <th>7</th>\n",
       "      <td>8</td>\n",
       "      <td>2017</td>\n",
       "      <td>CoP Topic8</td>\n",
       "      <td>74</td>\n",
       "      <td>3</td>\n",
       "      <td>4</td>\n",
       "      <td>3</td>\n",
       "      <td>2</td>\n",
       "      <td>31</td>\n",
       "    </tr>\n",
       "    <tr>\n",
       "      <th>8</th>\n",
       "      <td>9</td>\n",
       "      <td>2017</td>\n",
       "      <td>CoP Topic9</td>\n",
       "      <td>872</td>\n",
       "      <td>2</td>\n",
       "      <td>4</td>\n",
       "      <td>3</td>\n",
       "      <td>4</td>\n",
       "      <td>21</td>\n",
       "    </tr>\n",
       "    <tr>\n",
       "      <th>9</th>\n",
       "      <td>10</td>\n",
       "      <td>2017</td>\n",
       "      <td>CoP Topic10</td>\n",
       "      <td>111</td>\n",
       "      <td>2</td>\n",
       "      <td>3</td>\n",
       "      <td>2</td>\n",
       "      <td>4</td>\n",
       "      <td>15</td>\n",
       "    </tr>\n",
       "    <tr>\n",
       "      <th>10</th>\n",
       "      <td>11</td>\n",
       "      <td>2018</td>\n",
       "      <td>CoP Topic11</td>\n",
       "      <td>373</td>\n",
       "      <td>3</td>\n",
       "      <td>4</td>\n",
       "      <td>3</td>\n",
       "      <td>2</td>\n",
       "      <td>38</td>\n",
       "    </tr>\n",
       "    <tr>\n",
       "      <th>11</th>\n",
       "      <td>12</td>\n",
       "      <td>2018</td>\n",
       "      <td>CoP Topic12</td>\n",
       "      <td>178</td>\n",
       "      <td>3</td>\n",
       "      <td>3</td>\n",
       "      <td>1</td>\n",
       "      <td>2</td>\n",
       "      <td>25</td>\n",
       "    </tr>\n",
       "    <tr>\n",
       "      <th>12</th>\n",
       "      <td>13</td>\n",
       "      <td>2018</td>\n",
       "      <td>CoP Topic13</td>\n",
       "      <td>43</td>\n",
       "      <td>2</td>\n",
       "      <td>4</td>\n",
       "      <td>1</td>\n",
       "      <td>3</td>\n",
       "      <td>31</td>\n",
       "    </tr>\n",
       "    <tr>\n",
       "      <th>13</th>\n",
       "      <td>14</td>\n",
       "      <td>2018</td>\n",
       "      <td>CoP Topic14</td>\n",
       "      <td>119</td>\n",
       "      <td>2</td>\n",
       "      <td>3</td>\n",
       "      <td>1</td>\n",
       "      <td>1</td>\n",
       "      <td>31</td>\n",
       "    </tr>\n",
       "  </tbody>\n",
       "</table>\n",
       "</div>"
      ],
      "text/plain": [
       "    CoPNo  yearsCoP     CoPTopic  Speaker  Duration  FeedbackScore  CoPTag1  \\\n",
       "0       1      2015   CoP Topic1      380         3              4        3   \n",
       "1       2      2015   CoP Topic2      340         3              3        3   \n",
       "2       3      2016   CoP Topic3      679         2              4        1   \n",
       "3       4      2016   CoP Topic4      233         3              3        3   \n",
       "4       5      2017   CoP Topic5      676         2              4        3   \n",
       "5       6      2017   CoP Topic6      696         2              3        2   \n",
       "6       7      2017   CoP Topic7       86         2              4        2   \n",
       "7       8      2017   CoP Topic8       74         3              4        3   \n",
       "8       9      2017   CoP Topic9      872         2              4        3   \n",
       "9      10      2017  CoP Topic10      111         2              3        2   \n",
       "10     11      2018  CoP Topic11      373         3              4        3   \n",
       "11     12      2018  CoP Topic12      178         3              3        1   \n",
       "12     13      2018  CoP Topic13       43         2              4        1   \n",
       "13     14      2018  CoP Topic14      119         2              3        1   \n",
       "\n",
       "    CoPTag2  ParticipantCoPNo  \n",
       "0         5                23  \n",
       "1         1                37  \n",
       "2         4                18  \n",
       "3         2                39  \n",
       "4         5                41  \n",
       "5         4                21  \n",
       "6         2                34  \n",
       "7         2                31  \n",
       "8         4                21  \n",
       "9         4                15  \n",
       "10        2                38  \n",
       "11        2                25  \n",
       "12        3                31  \n",
       "13        1                31  "
      ]
     },
     "execution_count": 151,
     "metadata": {},
     "output_type": "execute_result"
    }
   ],
   "source": [
    "df"
   ]
  },
  {
   "cell_type": "markdown",
   "metadata": {},
   "source": [
    "## Function for Specific work "
   ]
  },
  {
   "cell_type": "code",
   "execution_count": 152,
   "metadata": {},
   "outputs": [],
   "source": [
    "# Get specific item match to index \n",
    "def GetValueFromList(val,indexs):\n",
    "    ans=[]\n",
    "    for i in range (len(val)):\n",
    "        ans.append(val[i])\n",
    "    return ans[indexs]\n",
    "        "
   ]
  },
  {
   "cell_type": "code",
   "execution_count": 153,
   "metadata": {},
   "outputs": [],
   "source": [
    "# Count member of list\n",
    "def CountMemberOfList(lists):\n",
    "    return len(lists)\n",
    "    \n",
    "\n"
   ]
  },
  {
   "cell_type": "markdown",
   "metadata": {},
   "source": [
    "## Manipulate full list of data for each employees"
   ]
  },
  {
   "cell_type": "code",
   "execution_count": 170,
   "metadata": {},
   "outputs": [],
   "source": [
    "AllRecord=[]\n",
    "AllEmployee=[]\n",
    "AllCoPNo=[]\n",
    "t=1\n",
    "for c in range(TotalNoCoP):\n",
    "    for g in range(len(ListParticipant[c])):\n",
    "        ansx=ListParticipant[c]\n",
    "        #print(t,c+1,CountMemberOfList(ansx),GetValueFromList(ansx,g),g+1)\n",
    "        AllRecord.append(t)\n",
    "        AllEmployee.append(GetValueFromList(ansx,g))\n",
    "        AllCoPNo.append(c+1)\n",
    "        t+=1"
   ]
  },
  {
   "cell_type": "markdown",
   "metadata": {},
   "source": [
    "## Create dataframe for full list of employees"
   ]
  },
  {
   "cell_type": "code",
   "execution_count": 163,
   "metadata": {},
   "outputs": [],
   "source": [
    "dfAll = pd.DataFrame(list(zip(AllRecord,AllCoPNo,AllEmployee)), \n",
    "               columns =['AllRecord','CoPNo','AllEmployee'])"
   ]
  },
  {
   "cell_type": "markdown",
   "metadata": {},
   "source": [
    "## Merge Dataframe to final state"
   ]
  },
  {
   "cell_type": "code",
   "execution_count": 164,
   "metadata": {},
   "outputs": [],
   "source": [
    "df_full=pd.merge(df, dfAll, on='CoPNo')"
   ]
  },
  {
   "cell_type": "markdown",
   "metadata": {},
   "source": [
    "## Assign index to specific column"
   ]
  },
  {
   "cell_type": "code",
   "execution_count": 165,
   "metadata": {},
   "outputs": [],
   "source": [
    "df_full.set_index('AllRecord', inplace=True)"
   ]
  },
  {
   "cell_type": "markdown",
   "metadata": {},
   "source": [
    "## Export to csv file"
   ]
  },
  {
   "cell_type": "code",
   "execution_count": 169,
   "metadata": {},
   "outputs": [],
   "source": [
    "df_full.to_csv('SimulatedCoP_KM_Analytics.csv')"
   ]
  },
  {
   "cell_type": "code",
   "execution_count": null,
   "metadata": {},
   "outputs": [],
   "source": []
  }
 ],
 "metadata": {
  "kernelspec": {
   "display_name": "Python 3",
   "language": "python",
   "name": "python3"
  },
  "language_info": {
   "codemirror_mode": {
    "name": "ipython",
    "version": 3
   },
   "file_extension": ".py",
   "mimetype": "text/x-python",
   "name": "python",
   "nbconvert_exporter": "python",
   "pygments_lexer": "ipython3",
   "version": "3.7.1"
  }
 },
 "nbformat": 4,
 "nbformat_minor": 2
}

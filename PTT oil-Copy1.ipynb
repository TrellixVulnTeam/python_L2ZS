{
 "cells": [
  {
   "cell_type": "code",
   "execution_count": 2,
   "metadata": {},
   "outputs": [],
   "source": [
    "from zeep import Client\n",
    "from lxml import etree"
   ]
  },
  {
   "cell_type": "code",
   "execution_count": 3,
   "metadata": {},
   "outputs": [],
   "source": [
    "client = Client('http://www.pttplc.com/webservice/pttinfo.asmx?WSDL')\n",
    "#result = client.service.CurrentOilPrice(\"en\")"
   ]
  },
  {
   "cell_type": "code",
   "execution_count": 9,
   "metadata": {},
   "outputs": [],
   "source": [
    "def getOilPrice(date,oilName):\n",
    "    dx=date.split(\"-\")\n",
    "    result = client.service.GetOilPrice(\"en\",dx[2],dx[1],dx[0])\n",
    "    root = etree.fromstring(result) \n",
    "    for r in root.xpath('DataAccess'):\n",
    "        product = r.xpath('PRODUCT/text()')[0]\n",
    "        price = r.xpath('PRICE/text()') or [0]\n",
    "        if (product == oilName):\n",
    "            result=float(price[0])                   \n",
    "    return result  "
   ]
  },
  {
   "cell_type": "code",
   "execution_count": 14,
   "metadata": {},
   "outputs": [
    {
     "name": "stdout",
     "output_type": "stream",
     "text": [
      "Price =  26.79 Bht\n"
     ]
    }
   ],
   "source": [
    "print(\"Price = \",getOilPrice(\"2018-12-17\",\"Blue Diesel\"),\"Bht\")"
   ]
  },
  {
   "cell_type": "code",
   "execution_count": null,
   "metadata": {
    "collapsed": true
   },
   "outputs": [],
   "source": []
  }
 ],
 "metadata": {
  "kernelspec": {
   "display_name": "Python 3",
   "language": "python",
   "name": "python3"
  },
  "language_info": {
   "codemirror_mode": {
    "name": "ipython",
    "version": 3
   },
   "file_extension": ".py",
   "mimetype": "text/x-python",
   "name": "python",
   "nbconvert_exporter": "python",
   "pygments_lexer": "ipython3",
   "version": "3.7.1"
  }
 },
 "nbformat": 4,
 "nbformat_minor": 1
}
